{
  "nbformat": 4,
  "nbformat_minor": 0,
  "metadata": {
    "colab": {
      "name": "UTS Algoritma.ipynb",
      "provenance": [],
      "authorship_tag": "ABX9TyO47m7H8Ob5rVWc4CJ5AbzW",
      "include_colab_link": true
    },
    "kernelspec": {
      "name": "python3",
      "display_name": "Python 3"
    }
  },
  "cells": [
    {
      "cell_type": "markdown",
      "metadata": {
        "id": "view-in-github",
        "colab_type": "text"
      },
      "source": [
        "<a href=\"https://colab.research.google.com/github/lutfiiwy/UTS-Algoritma-dan-Pemrograman/blob/main/UTS_Algoritma.ipynb\" target=\"_parent\"><img src=\"https://colab.research.google.com/assets/colab-badge.svg\" alt=\"Open In Colab\"/></a>"
      ]
    },
    {
      "cell_type": "code",
      "metadata": {
        "colab": {
          "base_uri": "https://localhost:8080/"
        },
        "id": "e3xMyPh-nS63",
        "outputId": "4c48fb87-6fb3-4952-8585-c14aab3a34a8"
      },
      "source": [
        "#Program Admin dan Nasabah Bank Sampah\r\n",
        "#Program tentang menghitung total nasabah yang ingin mengambil atau menjual sampah daur ulang\r\n",
        "#Daftar Harga\r\n",
        "print(\"Harga Membeli Sampah Daur Ulang\")\r\n",
        "print(\"Kardus=Rp.700/Kg\")\r\n",
        "print(\"Botol=Rp.1000/Kg\")\r\n",
        "print(\"Plastik=Rp.500/Kg\")\r\n",
        "print(\"________________________\")\r\n",
        "print(\"Harga Menjual Sampah Daur Ulang\")\r\n",
        "print(\"Kardus=Rp.500/Kg\")\r\n",
        "print(\"Botol=Rp.700/Kg\")\r\n",
        "print(\"Plastik=Rp.400/Kg\")\r\n",
        "print(\"________________________\")\r\n",
        "#Log in sebagai admin\r\n",
        "print(\"Login Admin\")\r\n",
        "user = input('Username: ')\r\n",
        "import getpass        #500,700,400\r\n",
        "sandi = getpass.getpass()    \r\n",
        "if sandi == '181201' and user == 'Admin':\r\n",
        "    print(\"Anda telah login sebagai admin\")\r\n",
        "else:    \r\n",
        "    print(\"Username atau Password salah\")\r\n",
        "\r\n",
        "print(\"*Jika Admin salah memasukkan sandi maka data tidak valid\")\r\n",
        "    \r\n",
        "    \r\n",
        "#Data nasabah\r\n",
        "print(\"Data Nasabah\")\r\n",
        "input(\"Nama :\")\r\n",
        "input(\"Alamat :\")\r\n",
        "input(\"Nomor Telepon :\")   \r\n",
        "#Program utama yaitu sampah yang ingin diambil nasabah atau menghitung total yang harus dibayarkan   \r\n",
        "print(\"1.Membeli Sampah Daur Ulang\")\r\n",
        "print(\"2.Menjual Sampah Daur Ulang\")\r\n",
        "print()\r\n",
        "pilih=int(input(\"Masukkan Pilihan Anda (1/2): \"))\r\n",
        "if pilih==1:    \r\n",
        "    print(\"1. Kardus\")\r\n",
        "    x=float(input(\"Masukkan berapa banyak (Kg) : \"))\r\n",
        "    print(\"2. Botol\")\r\n",
        "    y=float(input(\"Masukkan berapa banyak (Kg) : \"))\r\n",
        "    print(\"3. Plastik\")\r\n",
        "    z=float(input(\"Masukkan berapa banyak (Kg) : \"))\r\n",
        "    Bayar=((x)*700)+((y)*1000)+((z)*500)\r\n",
        "    print(\"Anda harus membayar : Rp. \",Bayar)       \r\n",
        "elif pilih==2:\r\n",
        "    print(\"1. Kardus\")\r\n",
        "    a=float(input(\"Masukkan berapa banyak (Kg) : \"))\r\n",
        "    print(\"2. Botol\")\r\n",
        "    b=float(input(\"Masukkan berapa banyak (Kg) : \"))\r\n",
        "    print(\"3. Plastik\")\r\n",
        "    c=float(input(\"Masukkan berapa banyak (Kg) : \"))\r\n",
        "    Dapat=((a)*500)+((b)*700)+((c)*400)\r\n",
        "    print(\"Anda mendapatkan : Rp.\",Dapat)\r\n",
        "else:\r\n",
        "    print(\"<ERROR>\")\r\n",
        "    \r\n",
        "     \r\n",
        "        \r\n",
        "\r\n",
        "        \r\n",
        "\r\n",
        "        "
      ],
      "execution_count": 2,
      "outputs": [
        {
          "output_type": "stream",
          "text": [
            "Harga Membeli Sampah Daur Ulang\n",
            "Kardus=Rp.700/Kg\n",
            "Botol=Rp.1000/Kg\n",
            "Plastik=Rp.500/Kg\n",
            "________________________\n",
            "Harga Menjual Sampah Daur Ulang\n",
            "Kardus=Rp.500/Kg\n",
            "Botol=Rp.700/Kg\n",
            "Plastik=Rp.400/Kg\n",
            "________________________\n",
            "Login Admin\n",
            "Username: Admin\n",
            "··········\n",
            "Anda telah login sebagai admin\n",
            "*Jika Admin salah memasukkan sandi maka data tidak valid\n",
            "Data Nasabah\n",
            "Nama :Lutfi\n",
            "Alamat :Gunung Pati\n",
            "Nomor Telepon :089669596095\n",
            "1.Membeli Sampah Daur Ulang\n",
            "2.Menjual Sampah Daur Ulang\n",
            "\n",
            "Masukkan Pilihan Anda (1/2): 2\n",
            "1. Kardus\n",
            "Masukkan berapa banyak (Kg) : 100\n",
            "2. Botol\n",
            "Masukkan berapa banyak (Kg) : 20\n",
            "3. Plastik\n",
            "Masukkan berapa banyak (Kg) : 30\n",
            "Anda mendapatkan : Rp. 76000.0\n"
          ],
          "name": "stdout"
        }
      ]
    }
  ]
}